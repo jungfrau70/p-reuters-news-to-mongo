{
 "cells": [
  {
   "cell_type": "code",
   "execution_count": 1,
   "id": "816372f8-ed20-4e4e-8780-35ac068de4fb",
   "metadata": {},
   "outputs": [],
   "source": [
    "import os"
   ]
  },
  {
   "cell_type": "code",
   "execution_count": 2,
   "id": "e7be14b4-d65c-4e4b-9488-4b69c66f46fc",
   "metadata": {},
   "outputs": [
    {
     "name": "stdout",
     "output_type": "stream",
     "text": [
      " D 드라이브의 볼륨: D\n",
      " 볼륨 일련 번호: F4F4-74BD\n",
      "\n",
      " D:\\encore-4team\\Step3\\project-reuters-news 디렉터리\n",
      "\n",
      "2021-07-23  오전 04:58    <DIR>          .\n",
      "2021-06-26  오후 11:47    <DIR>          ..\n",
      "2021-07-23  오전 04:52                40 .gitignore\n",
      "2021-07-23  오전 04:57    <DIR>          .idea\n",
      "2021-07-23  오전 04:58    <DIR>          .ipynb_checkpoints\n",
      "2021-07-23  오전 04:36                27 README.md\n",
      "2021-07-23  오전 04:47                99 requirments.txt\n",
      "2021-07-23  오전 02:51            12,669 Shell script from Python.ipynb\n",
      "2021-07-23  오전 04:45    <DIR>          Step2\n",
      "2021-07-23  오전 04:37    <DIR>          venv\n",
      "               4개 파일              12,835 바이트\n",
      "               6개 디렉터리  1,846,039,199,744 바이트 남음\n"
     ]
    }
   ],
   "source": [
    "!dir"
   ]
  },
  {
   "cell_type": "code",
   "execution_count": 3,
   "id": "3b12e64b-7a33-44df-b03a-372be9fb5ad9",
   "metadata": {},
   "outputs": [
    {
     "data": {
      "text/plain": [
       "0"
      ]
     },
     "execution_count": 3,
     "metadata": {},
     "output_type": "execute_result"
    }
   ],
   "source": [
    "os.system(\"dir\") # return 0 if No error"
   ]
  },
  {
   "cell_type": "code",
   "execution_count": 4,
   "id": "43d8f162-ef2c-4feb-afe6-22306692d38c",
   "metadata": {},
   "outputs": [
    {
     "name": "stderr",
     "output_type": "stream",
     "text": [
      "'ls'은(는) 내부 또는 외부 명령, 실행할 수 있는 프로그램, 또는\n",
      "배치 파일이 아닙니다.\n"
     ]
    }
   ],
   "source": [
    "!ls"
   ]
  },
  {
   "cell_type": "code",
   "execution_count": 5,
   "id": "394c8a4c-0469-4ff9-b6b4-7574200bbe0b",
   "metadata": {},
   "outputs": [
    {
     "data": {
      "text/plain": [
       "1"
      ]
     },
     "execution_count": 5,
     "metadata": {},
     "output_type": "execute_result"
    }
   ],
   "source": [
    "os.system(\"ls\") # return not-0 value if Error"
   ]
  },
  {
   "cell_type": "code",
   "execution_count": 6,
   "id": "49909267-1303-4730-98bb-951c6b35b7d2",
   "metadata": {},
   "outputs": [
    {
     "name": "stdout",
     "output_type": "stream",
     "text": [
      " D 드라이브의 볼륨: D\n",
      " 볼륨 일련 번호: F4F4-74BD\n",
      "\n",
      " D:\\encore-4team\\Step3\\project-reuters-news 디렉터리\n",
      "\n",
      "2021-07-23  오전 04:58    <DIR>          .\n",
      "2021-06-26  오후 11:47    <DIR>          ..\n",
      "2021-07-23  오전 04:52                40 .gitignore\n",
      "2021-07-23  오전 04:57    <DIR>          .idea\n",
      "2021-07-23  오전 04:58    <DIR>          .ipynb_checkpoints\n",
      "2021-07-23  오전 04:36                27 README.md\n",
      "2021-07-23  오전 04:47                99 requirments.txt\n",
      "2021-07-23  오전 02:51            12,669 Shell script from Python.ipynb\n",
      "2021-07-23  오전 04:45    <DIR>          Step2\n",
      "2021-07-23  오전 04:37    <DIR>          venv\n",
      "               4개 파일              12,835 바이트\n",
      "               6개 디렉터리  1,846,039,199,744 바이트 남음\n",
      "\n"
     ]
    }
   ],
   "source": [
    "print(os.popen(\"dir\").read())"
   ]
  },
  {
   "cell_type": "code",
   "execution_count": 7,
   "id": "3a1a4415-efaf-434c-a341-7db6c87cf1dd",
   "metadata": {},
   "outputs": [
    {
     "data": {
      "text/plain": [
       "1"
      ]
     },
     "execution_count": 7,
     "metadata": {},
     "output_type": "execute_result"
    }
   ],
   "source": [
    "os.system(\"which dir\")"
   ]
  },
  {
   "cell_type": "code",
   "execution_count": 8,
   "id": "0a820ef9-3529-4b8b-9f30-eecbd23af9c0",
   "metadata": {},
   "outputs": [
    {
     "data": {
      "text/plain": [
       "1468"
      ]
     },
     "execution_count": 8,
     "metadata": {},
     "output_type": "execute_result"
    }
   ],
   "source": [
    "os.spawnl(os.P_NOWAIT, \"c:\\windows\\system32\\cmd.exe\", \"dir\") # return process-id"
   ]
  },
  {
   "cell_type": "markdown",
   "id": "f40f806e-ba89-4a32-816b-098b6fcd1e05",
   "metadata": {},
   "source": [
    "# Subprocess"
   ]
  },
  {
   "cell_type": "code",
   "execution_count": 9,
   "id": "4764f996-2f8c-4034-8f10-20783cf3de54",
   "metadata": {},
   "outputs": [],
   "source": [
    "import subprocess"
   ]
  },
  {
   "cell_type": "code",
   "execution_count": 10,
   "id": "8a252778-be57-4017-b70c-0453331b933d",
   "metadata": {},
   "outputs": [
    {
     "name": "stdout",
     "output_type": "stream",
     "text": [
      "Writing test.py\n"
     ]
    }
   ],
   "source": [
    "%%writefile test.py\n",
    "print(\"Hello Python\")"
   ]
  },
  {
   "cell_type": "code",
   "execution_count": 11,
   "id": "531a5fd5-bff3-4584-a0c6-ec436dabc28d",
   "metadata": {},
   "outputs": [
    {
     "data": {
      "text/plain": [
       "1456"
      ]
     },
     "execution_count": 11,
     "metadata": {},
     "output_type": "execute_result"
    }
   ],
   "source": [
    "os.spawnl(os.P_NOWAIT, \"./venv/Scripts/python.exe\", \"test.py\")"
   ]
  },
  {
   "cell_type": "code",
   "execution_count": 12,
   "id": "0782d8a0-094c-4990-b6e2-eb62ae7c0dec",
   "metadata": {},
   "outputs": [
    {
     "data": {
      "text/plain": [
       "CompletedProcess(args=['python', 'test.py'], returncode=0)"
      ]
     },
     "execution_count": 12,
     "metadata": {},
     "output_type": "execute_result"
    }
   ],
   "source": [
    "subprocess.run([\"python\", \"test.py\"])"
   ]
  },
  {
   "cell_type": "code",
   "execution_count": 13,
   "id": "e2eb8d23-4153-44ab-b426-c44fbbb23fa6",
   "metadata": {},
   "outputs": [
    {
     "data": {
      "text/plain": [
       "CompletedProcess(args=['python', 'test.py'], returncode=0, stdout=b'Hello Python\\r\\n')"
      ]
     },
     "execution_count": 13,
     "metadata": {},
     "output_type": "execute_result"
    }
   ],
   "source": [
    "subprocess.run([\"python\", \"test.py\"], stdout=subprocess.PIPE)"
   ]
  },
  {
   "cell_type": "code",
   "execution_count": 14,
   "id": "bad3a5b8-a9aa-4166-b020-88563601a575",
   "metadata": {},
   "outputs": [
    {
     "name": "stdout",
     "output_type": "stream",
     "text": [
      "Hello Python\n"
     ]
    }
   ],
   "source": [
    "%run test.py"
   ]
  },
  {
   "cell_type": "code",
   "execution_count": 15,
   "id": "3aae8ebc-a12f-4ff5-9a48-756e89f4d0b1",
   "metadata": {},
   "outputs": [
    {
     "name": "stdout",
     "output_type": "stream",
     "text": [
      "Writing test.sh\n"
     ]
    }
   ],
   "source": [
    "%%writefile test.sh\n",
    "#!/bin/bash\n",
    "echo \"Hello Bash\""
   ]
  },
  {
   "cell_type": "code",
   "execution_count": 16,
   "id": "dd0277fd-e99b-4d4d-9053-35aa797e8623",
   "metadata": {},
   "outputs": [
    {
     "data": {
      "text/plain": [
       "CompletedProcess(args=['bash', 'test.sh'], returncode=0, stdout=b'Hello Bash\\r\\n', stderr=b'')"
      ]
     },
     "execution_count": 16,
     "metadata": {},
     "output_type": "execute_result"
    }
   ],
   "source": [
    "subprocess.run([\"bash\", \"test.sh\"], stdout=subprocess.PIPE, stderr=subprocess.PIPE)"
   ]
  },
  {
   "cell_type": "code",
   "execution_count": 17,
   "id": "16394465-a800-4b28-94a7-2808ae130b7f",
   "metadata": {},
   "outputs": [],
   "source": [
    "result = subprocess.run([\"bash\", \"test.sh\"], stdout=subprocess.PIPE)"
   ]
  },
  {
   "cell_type": "code",
   "execution_count": 18,
   "id": "f4b3c4cb-1b3e-4c02-8420-9cd143cf4898",
   "metadata": {},
   "outputs": [
    {
     "name": "stdout",
     "output_type": "stream",
     "text": [
      "Hello Bash\n",
      "\n"
     ]
    }
   ],
   "source": [
    "print(result.stdout.decode())"
   ]
  },
  {
   "cell_type": "markdown",
   "id": "4d494121-45e8-4ace-a7c8-3adb470b66f1",
   "metadata": {},
   "source": [
    "## Since Python3.7\n",
    "capture_output=True"
   ]
  },
  {
   "cell_type": "code",
   "execution_count": 19,
   "id": "6cf5b3ce-1f17-4928-9861-e1619dc582b4",
   "metadata": {},
   "outputs": [
    {
     "data": {
      "text/plain": [
       "CompletedProcess(args=['bash', 'test.sh'], returncode=0, stdout=b'Hello Bash\\r\\n', stderr=b'')"
      ]
     },
     "execution_count": 19,
     "metadata": {},
     "output_type": "execute_result"
    }
   ],
   "source": [
    "subprocess.run([\"bash\", \"test.sh\"], capture_output=True)"
   ]
  },
  {
   "cell_type": "markdown",
   "id": "c4a14435-93fa-4bc8-9e75-8416fd15d183",
   "metadata": {},
   "source": [
    "## run command by passing single string"
   ]
  },
  {
   "cell_type": "code",
   "execution_count": 20,
   "id": "e906095b-16d2-4f4b-b48c-ce3fe18e074e",
   "metadata": {},
   "outputs": [
    {
     "data": {
      "text/plain": [
       "CompletedProcess(args='dir /w', returncode=0)"
      ]
     },
     "execution_count": 20,
     "metadata": {},
     "output_type": "execute_result"
    }
   ],
   "source": [
    "subprocess.run(\"dir /w\", shell=True)"
   ]
  },
  {
   "cell_type": "code",
   "execution_count": 21,
   "id": "567c06df-4233-4a62-ae48-bc357e5990bb",
   "metadata": {},
   "outputs": [
    {
     "data": {
      "text/plain": [
       "CompletedProcess(args='dir /w', returncode=0, stdout=b' D \\xb5\\xe5\\xb6\\xf3\\xc0\\xcc\\xba\\xea\\xc0\\xc7 \\xba\\xbc\\xb7\\xfd: D\\r\\n \\xba\\xbc\\xb7\\xfd \\xc0\\xcf\\xb7\\xc3 \\xb9\\xf8\\xc8\\xa3: F4F4-74BD\\r\\n\\r\\n D:\\\\encore-4team\\\\Step3\\\\project-reuters-news \\xb5\\xf0\\xb7\\xba\\xc5\\xcd\\xb8\\xae\\r\\n\\r\\n[.]                              [..]\\r\\n.gitignore                       [.idea]\\r\\n[.ipynb_checkpoints]             README.md\\r\\nrequirments.txt                  Shell script from Python.ipynb\\r\\n[Step2]                          test.py\\r\\ntest.sh                          [venv]\\r\\n               6\\xb0\\xb3 \\xc6\\xc4\\xc0\\xcf              12,890 \\xb9\\xd9\\xc0\\xcc\\xc6\\xae\\r\\n               6\\xb0\\xb3 \\xb5\\xf0\\xb7\\xba\\xc5\\xcd\\xb8\\xae  1,846,039,199,744 \\xb9\\xd9\\xc0\\xcc\\xc6\\xae \\xb3\\xb2\\xc0\\xbd\\r\\n', stderr=b'')"
      ]
     },
     "execution_count": 21,
     "metadata": {},
     "output_type": "execute_result"
    }
   ],
   "source": [
    "subprocess.run(\"dir /w\", shell=True, capture_output=True)"
   ]
  },
  {
   "cell_type": "code",
   "execution_count": 22,
   "id": "6da86e55-3b2b-4d08-966b-6d3dd262dc9f",
   "metadata": {},
   "outputs": [
    {
     "name": "stderr",
     "output_type": "stream",
     "text": [
      "'cat'은(는) 내부 또는 외부 명령, 실행할 수 있는 프로그램, 또는\n",
      "배치 파일이 아닙니다.\n"
     ]
    }
   ],
   "source": [
    "!cat test.py"
   ]
  },
  {
   "cell_type": "code",
   "execution_count": null,
   "id": "dce6ac4e-274e-4cfe-9339-3a669fa76d52",
   "metadata": {},
   "outputs": [],
   "source": []
  }
 ],
 "metadata": {
  "kernelspec": {
   "display_name": "Python 3 (ipykernel)",
   "language": "python",
   "name": "python3"
  },
  "language_info": {
   "codemirror_mode": {
    "name": "ipython",
    "version": 3
   },
   "file_extension": ".py",
   "mimetype": "text/x-python",
   "name": "python",
   "nbconvert_exporter": "python",
   "pygments_lexer": "ipython3",
   "version": "3.8.9"
  }
 },
 "nbformat": 4,
 "nbformat_minor": 5
}
